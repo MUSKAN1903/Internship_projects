{
  "nbformat": 4,
  "nbformat_minor": 0,
  "metadata": {
    "colab": {
      "name": "Breast_cancer_detection",
      "provenance": []
    },
    "kernelspec": {
      "name": "python3",
      "display_name": "Python 3"
    },
    "language_info": {
      "name": "python"
    }
  },
  "cells": [
    {
      "cell_type": "code",
      "metadata": {
        "id": "MR6szYiVmms7"
      },
      "source": [
        "import pandas as pd\n",
        "import numpy as np\n",
        "\n",
        "from sklearn.datasets import load_breast_cancer\n",
        "from sklearn.preprocessing import StandardScaler\n",
        "\n",
        "from keras.models import Sequential\n",
        "from keras.layers import Dense"
      ],
      "execution_count": 1,
      "outputs": []
    },
    {
      "cell_type": "code",
      "metadata": {
        "id": "mdAkRBqjmv8B"
      },
      "source": [
        "data = load_breast_cancer()"
      ],
      "execution_count": 2,
      "outputs": []
    },
    {
      "cell_type": "code",
      "metadata": {
        "colab": {
          "base_uri": "https://localhost:8080/"
        },
        "id": "L8vnDmDZm2wu",
        "outputId": "b09a2d71-406a-4b7c-c1dd-6ea17f21fb13"
      },
      "source": [
        "data.keys()"
      ],
      "execution_count": 3,
      "outputs": [
        {
          "output_type": "execute_result",
          "data": {
            "text/plain": [
              "dict_keys(['data', 'target', 'target_names', 'DESCR', 'feature_names', 'filename'])"
            ]
          },
          "metadata": {},
          "execution_count": 3
        }
      ]
    },
    {
      "cell_type": "code",
      "metadata": {
        "colab": {
          "base_uri": "https://localhost:8080/"
        },
        "id": "tf4LCnZBm2zc",
        "outputId": "86774bb0-4ad7-43b4-fede-a19823ab58b5"
      },
      "source": [
        "\n",
        "print(data['DESCR'])"
      ],
      "execution_count": 5,
      "outputs": [
        {
          "output_type": "stream",
          "name": "stdout",
          "text": [
            ".. _breast_cancer_dataset:\n",
            "\n",
            "Breast cancer wisconsin (diagnostic) dataset\n",
            "--------------------------------------------\n",
            "\n",
            "**Data Set Characteristics:**\n",
            "\n",
            "    :Number of Instances: 569\n",
            "\n",
            "    :Number of Attributes: 30 numeric, predictive attributes and the class\n",
            "\n",
            "    :Attribute Information:\n",
            "        - radius (mean of distances from center to points on the perimeter)\n",
            "        - texture (standard deviation of gray-scale values)\n",
            "        - perimeter\n",
            "        - area\n",
            "        - smoothness (local variation in radius lengths)\n",
            "        - compactness (perimeter^2 / area - 1.0)\n",
            "        - concavity (severity of concave portions of the contour)\n",
            "        - concave points (number of concave portions of the contour)\n",
            "        - symmetry \n",
            "        - fractal dimension (\"coastline approximation\" - 1)\n",
            "\n",
            "        The mean, standard error, and \"worst\" or largest (mean of the three\n",
            "        largest values) of these features were computed for each image,\n",
            "        resulting in 30 features.  For instance, field 3 is Mean Radius, field\n",
            "        13 is Radius SE, field 23 is Worst Radius.\n",
            "\n",
            "        - class:\n",
            "                - WDBC-Malignant\n",
            "                - WDBC-Benign\n",
            "\n",
            "    :Summary Statistics:\n",
            "\n",
            "    ===================================== ====== ======\n",
            "                                           Min    Max\n",
            "    ===================================== ====== ======\n",
            "    radius (mean):                        6.981  28.11\n",
            "    texture (mean):                       9.71   39.28\n",
            "    perimeter (mean):                     43.79  188.5\n",
            "    area (mean):                          143.5  2501.0\n",
            "    smoothness (mean):                    0.053  0.163\n",
            "    compactness (mean):                   0.019  0.345\n",
            "    concavity (mean):                     0.0    0.427\n",
            "    concave points (mean):                0.0    0.201\n",
            "    symmetry (mean):                      0.106  0.304\n",
            "    fractal dimension (mean):             0.05   0.097\n",
            "    radius (standard error):              0.112  2.873\n",
            "    texture (standard error):             0.36   4.885\n",
            "    perimeter (standard error):           0.757  21.98\n",
            "    area (standard error):                6.802  542.2\n",
            "    smoothness (standard error):          0.002  0.031\n",
            "    compactness (standard error):         0.002  0.135\n",
            "    concavity (standard error):           0.0    0.396\n",
            "    concave points (standard error):      0.0    0.053\n",
            "    symmetry (standard error):            0.008  0.079\n",
            "    fractal dimension (standard error):   0.001  0.03\n",
            "    radius (worst):                       7.93   36.04\n",
            "    texture (worst):                      12.02  49.54\n",
            "    perimeter (worst):                    50.41  251.2\n",
            "    area (worst):                         185.2  4254.0\n",
            "    smoothness (worst):                   0.071  0.223\n",
            "    compactness (worst):                  0.027  1.058\n",
            "    concavity (worst):                    0.0    1.252\n",
            "    concave points (worst):               0.0    0.291\n",
            "    symmetry (worst):                     0.156  0.664\n",
            "    fractal dimension (worst):            0.055  0.208\n",
            "    ===================================== ====== ======\n",
            "\n",
            "    :Missing Attribute Values: None\n",
            "\n",
            "    :Class Distribution: 212 - Malignant, 357 - Benign\n",
            "\n",
            "    :Creator:  Dr. William H. Wolberg, W. Nick Street, Olvi L. Mangasarian\n",
            "\n",
            "    :Donor: Nick Street\n",
            "\n",
            "    :Date: November, 1995\n",
            "\n",
            "This is a copy of UCI ML Breast Cancer Wisconsin (Diagnostic) datasets.\n",
            "https://goo.gl/U2Uwz2\n",
            "\n",
            "Features are computed from a digitized image of a fine needle\n",
            "aspirate (FNA) of a breast mass.  They describe\n",
            "characteristics of the cell nuclei present in the image.\n",
            "\n",
            "Separating plane described above was obtained using\n",
            "Multisurface Method-Tree (MSM-T) [K. P. Bennett, \"Decision Tree\n",
            "Construction Via Linear Programming.\" Proceedings of the 4th\n",
            "Midwest Artificial Intelligence and Cognitive Science Society,\n",
            "pp. 97-101, 1992], a classification method which uses linear\n",
            "programming to construct a decision tree.  Relevant features\n",
            "were selected using an exhaustive search in the space of 1-4\n",
            "features and 1-3 separating planes.\n",
            "\n",
            "The actual linear program used to obtain the separating plane\n",
            "in the 3-dimensional space is that described in:\n",
            "[K. P. Bennett and O. L. Mangasarian: \"Robust Linear\n",
            "Programming Discrimination of Two Linearly Inseparable Sets\",\n",
            "Optimization Methods and Software 1, 1992, 23-34].\n",
            "\n",
            "This database is also available through the UW CS ftp server:\n",
            "\n",
            "ftp ftp.cs.wisc.edu\n",
            "cd math-prog/cpo-dataset/machine-learn/WDBC/\n",
            "\n",
            ".. topic:: References\n",
            "\n",
            "   - W.N. Street, W.H. Wolberg and O.L. Mangasarian. Nuclear feature extraction \n",
            "     for breast tumor diagnosis. IS&T/SPIE 1993 International Symposium on \n",
            "     Electronic Imaging: Science and Technology, volume 1905, pages 861-870,\n",
            "     San Jose, CA, 1993.\n",
            "   - O.L. Mangasarian, W.N. Street and W.H. Wolberg. Breast cancer diagnosis and \n",
            "     prognosis via linear programming. Operations Research, 43(4), pages 570-577, \n",
            "     July-August 1995.\n",
            "   - W.H. Wolberg, W.N. Street, and O.L. Mangasarian. Machine learning techniques\n",
            "     to diagnose breast cancer from fine-needle aspirates. Cancer Letters 77 (1994) \n",
            "     163-171.\n"
          ]
        }
      ]
    },
    {
      "cell_type": "code",
      "metadata": {
        "colab": {
          "base_uri": "https://localhost:8080/"
        },
        "id": "zAn3mw3Am220",
        "outputId": "5c5f5202-222d-4866-c800-4fa188d76128"
      },
      "source": [
        "data['data'].shape"
      ],
      "execution_count": 6,
      "outputs": [
        {
          "output_type": "execute_result",
          "data": {
            "text/plain": [
              "(569, 30)"
            ]
          },
          "metadata": {},
          "execution_count": 6
        }
      ]
    },
    {
      "cell_type": "code",
      "metadata": {
        "colab": {
          "base_uri": "https://localhost:8080/"
        },
        "id": "Hk1s29jsnCB2",
        "outputId": "aa5f3d50-b6ee-46f8-b26b-9b88134a2a13"
      },
      "source": [
        "data['feature_names']"
      ],
      "execution_count": 7,
      "outputs": [
        {
          "output_type": "execute_result",
          "data": {
            "text/plain": [
              "array(['mean radius', 'mean texture', 'mean perimeter', 'mean area',\n",
              "       'mean smoothness', 'mean compactness', 'mean concavity',\n",
              "       'mean concave points', 'mean symmetry', 'mean fractal dimension',\n",
              "       'radius error', 'texture error', 'perimeter error', 'area error',\n",
              "       'smoothness error', 'compactness error', 'concavity error',\n",
              "       'concave points error', 'symmetry error',\n",
              "       'fractal dimension error', 'worst radius', 'worst texture',\n",
              "       'worst perimeter', 'worst area', 'worst smoothness',\n",
              "       'worst compactness', 'worst concavity', 'worst concave points',\n",
              "       'worst symmetry', 'worst fractal dimension'], dtype='<U23')"
            ]
          },
          "metadata": {},
          "execution_count": 7
        }
      ]
    },
    {
      "cell_type": "code",
      "metadata": {
        "colab": {
          "base_uri": "https://localhost:8080/"
        },
        "id": "WcSpydIhnCFE",
        "outputId": "be43b599-2b7c-4d82-ac1e-afbd956f14f7"
      },
      "source": [
        "data['data'][0]"
      ],
      "execution_count": 8,
      "outputs": [
        {
          "output_type": "execute_result",
          "data": {
            "text/plain": [
              "array([1.799e+01, 1.038e+01, 1.228e+02, 1.001e+03, 1.184e-01, 2.776e-01,\n",
              "       3.001e-01, 1.471e-01, 2.419e-01, 7.871e-02, 1.095e+00, 9.053e-01,\n",
              "       8.589e+00, 1.534e+02, 6.399e-03, 4.904e-02, 5.373e-02, 1.587e-02,\n",
              "       3.003e-02, 6.193e-03, 2.538e+01, 1.733e+01, 1.846e+02, 2.019e+03,\n",
              "       1.622e-01, 6.656e-01, 7.119e-01, 2.654e-01, 4.601e-01, 1.189e-01])"
            ]
          },
          "metadata": {},
          "execution_count": 8
        }
      ]
    },
    {
      "cell_type": "code",
      "metadata": {
        "colab": {
          "base_uri": "https://localhost:8080/"
        },
        "id": "_jI_t6e7nCHg",
        "outputId": "76a4b403-c9f4-4d21-9403-b800bfae2805"
      },
      "source": [
        "j = 0\n",
        "for i in data['feature_names']:\n",
        "  print(i,\":\",data['data'][0][j])\n",
        "  j+=1"
      ],
      "execution_count": 9,
      "outputs": [
        {
          "output_type": "stream",
          "name": "stdout",
          "text": [
            "mean radius : 17.99\n",
            "mean texture : 10.38\n",
            "mean perimeter : 122.8\n",
            "mean area : 1001.0\n",
            "mean smoothness : 0.1184\n",
            "mean compactness : 0.2776\n",
            "mean concavity : 0.3001\n",
            "mean concave points : 0.1471\n",
            "mean symmetry : 0.2419\n",
            "mean fractal dimension : 0.07871\n",
            "radius error : 1.095\n",
            "texture error : 0.9053\n",
            "perimeter error : 8.589\n",
            "area error : 153.4\n",
            "smoothness error : 0.006399\n",
            "compactness error : 0.04904\n",
            "concavity error : 0.05373\n",
            "concave points error : 0.01587\n",
            "symmetry error : 0.03003\n",
            "fractal dimension error : 0.006193\n",
            "worst radius : 25.38\n",
            "worst texture : 17.33\n",
            "worst perimeter : 184.6\n",
            "worst area : 2019.0\n",
            "worst smoothness : 0.1622\n",
            "worst compactness : 0.6656\n",
            "worst concavity : 0.7119\n",
            "worst concave points : 0.2654\n",
            "worst symmetry : 0.4601\n",
            "worst fractal dimension : 0.1189\n"
          ]
        }
      ]
    },
    {
      "cell_type": "code",
      "metadata": {
        "id": "vSa5rkaPnKN5"
      },
      "source": [
        "feature = data['data']"
      ],
      "execution_count": 10,
      "outputs": []
    },
    {
      "cell_type": "code",
      "metadata": {
        "id": "ll5sL6BQnCKV"
      },
      "source": [
        "label = data['target']"
      ],
      "execution_count": 11,
      "outputs": []
    },
    {
      "cell_type": "code",
      "metadata": {
        "colab": {
          "base_uri": "https://localhost:8080/"
        },
        "id": "OL9Q9gdfnCMs",
        "outputId": "ded1d4c3-e383-4b67-c915-1c325cd413a1"
      },
      "source": [
        "data['target_names']"
      ],
      "execution_count": 12,
      "outputs": [
        {
          "output_type": "execute_result",
          "data": {
            "text/plain": [
              "array(['malignant', 'benign'], dtype='<U9')"
            ]
          },
          "metadata": {},
          "execution_count": 12
        }
      ]
    },
    {
      "cell_type": "code",
      "metadata": {
        "colab": {
          "base_uri": "https://localhost:8080/"
        },
        "id": "v2AwrxEUnCQL",
        "outputId": "9191497b-092a-4427-d722-c923703f2544"
      },
      "source": [
        "feature.shape"
      ],
      "execution_count": 13,
      "outputs": [
        {
          "output_type": "execute_result",
          "data": {
            "text/plain": [
              "(569, 30)"
            ]
          },
          "metadata": {},
          "execution_count": 13
        }
      ]
    },
    {
      "cell_type": "code",
      "metadata": {
        "colab": {
          "base_uri": "https://localhost:8080/"
        },
        "id": "Y25M-aybnS0s",
        "outputId": "56f09977-32f4-4364-876b-e3e000570695"
      },
      "source": [
        "label.shape"
      ],
      "execution_count": 14,
      "outputs": [
        {
          "output_type": "execute_result",
          "data": {
            "text/plain": [
              "(569,)"
            ]
          },
          "metadata": {},
          "execution_count": 14
        }
      ]
    },
    {
      "cell_type": "code",
      "metadata": {
        "id": "IBU_LBI2nS5l"
      },
      "source": [
        "scale = StandardScaler()\n",
        "\n",
        "feature = scale.fit_transform(feature)"
      ],
      "execution_count": 15,
      "outputs": []
    },
    {
      "cell_type": "code",
      "metadata": {
        "colab": {
          "base_uri": "https://localhost:8080/"
        },
        "id": "7wdqlGZunS8-",
        "outputId": "a7327fac-fb85-434b-c9ed-2f71ac1b0972"
      },
      "source": [
        "j = 0\n",
        "for i in data['feature_names']:\n",
        "  print(i,\":\",feature[0][j])\n",
        "  j+=1"
      ],
      "execution_count": 16,
      "outputs": [
        {
          "output_type": "stream",
          "name": "stdout",
          "text": [
            "mean radius : 1.0970639814699807\n",
            "mean texture : -2.0733350146975935\n",
            "mean perimeter : 1.2699336881399383\n",
            "mean area : 0.9843749048031144\n",
            "mean smoothness : 1.568466329243428\n",
            "mean compactness : 3.2835146709868264\n",
            "mean concavity : 2.652873983743168\n",
            "mean concave points : 2.532475216403245\n",
            "mean symmetry : 2.2175150059646405\n",
            "mean fractal dimension : 2.255746885296269\n",
            "radius error : 2.4897339267376193\n",
            "texture error : -0.5652650590684639\n",
            "perimeter error : 2.833030865855184\n",
            "area error : 2.4875775569611043\n",
            "smoothness error : -0.21400164666895383\n",
            "compactness error : 1.3168615683959484\n",
            "concavity error : 0.72402615808036\n",
            "concave points error : 0.6608199414286064\n",
            "symmetry error : 1.1487566671861758\n",
            "fractal dimension error : 0.9070830809973359\n",
            "worst radius : 1.8866896251792757\n",
            "worst texture : -1.3592934737640827\n",
            "worst perimeter : 2.3036006236225606\n",
            "worst area : 2.0012374893299207\n",
            "worst smoothness : 1.3076862710715387\n",
            "worst compactness : 2.616665023512603\n",
            "worst concavity : 2.1095263465722556\n",
            "worst concave points : 2.296076127561788\n",
            "worst symmetry : 2.750622244124955\n",
            "worst fractal dimension : 1.9370146123781782\n"
          ]
        }
      ]
    },
    {
      "cell_type": "code",
      "metadata": {
        "colab": {
          "base_uri": "https://localhost:8080/"
        },
        "id": "RVMXBrVPnapu",
        "outputId": "75519532-3c97-4060-be20-6bfa494cd721"
      },
      "source": [
        "print(feature[568])\n",
        "print(data['target_names'][label[568]],label[568])"
      ],
      "execution_count": 17,
      "outputs": [
        {
          "output_type": "stream",
          "name": "stdout",
          "text": [
            "[-1.80840125  1.22179204 -1.81438851 -1.34778924 -3.11208479 -1.15075248\n",
            " -1.11487284 -1.26181958 -0.8200699  -0.56103238 -0.07027874  0.3830925\n",
            " -0.15744905 -0.46615196  0.04934236 -1.16351619 -1.05750068 -1.91344745\n",
            "  0.75282996 -0.382754   -1.41089258  0.76418957 -1.43273495 -1.07581292\n",
            " -1.85901852 -1.2075525  -1.30583065 -1.74506282 -0.04813821 -0.75120669]\n",
            "benign 1\n"
          ]
        }
      ]
    },
    {
      "cell_type": "code",
      "metadata": {
        "id": "DE--jAq6nasW"
      },
      "source": [
        "df_frt = pd.DataFrame(feature , columns = data['feature_names'])\n",
        "df_lbl = pd.DataFrame(label , columns = ['label'])\n",
        "df = pd.concat([df_frt, df_lbl], axis=1)\n",
        "df = df.sample(frac = 1)\n",
        "\n",
        "feature = df.values[ : , : 30]\n",
        "label = df.values[ : ,30: ]\n"
      ],
      "execution_count": 18,
      "outputs": []
    },
    {
      "cell_type": "code",
      "metadata": {
        "colab": {
          "base_uri": "https://localhost:8080/",
          "height": 478
        },
        "id": "YJnLkW1tnav0",
        "outputId": "64608f2f-f92a-43cd-e27e-21c34eb3c502"
      },
      "source": [
        "df"
      ],
      "execution_count": 19,
      "outputs": [
        {
          "output_type": "execute_result",
          "data": {
            "text/html": [
              "<div>\n",
              "<style scoped>\n",
              "    .dataframe tbody tr th:only-of-type {\n",
              "        vertical-align: middle;\n",
              "    }\n",
              "\n",
              "    .dataframe tbody tr th {\n",
              "        vertical-align: top;\n",
              "    }\n",
              "\n",
              "    .dataframe thead th {\n",
              "        text-align: right;\n",
              "    }\n",
              "</style>\n",
              "<table border=\"1\" class=\"dataframe\">\n",
              "  <thead>\n",
              "    <tr style=\"text-align: right;\">\n",
              "      <th></th>\n",
              "      <th>mean radius</th>\n",
              "      <th>mean texture</th>\n",
              "      <th>mean perimeter</th>\n",
              "      <th>mean area</th>\n",
              "      <th>mean smoothness</th>\n",
              "      <th>mean compactness</th>\n",
              "      <th>mean concavity</th>\n",
              "      <th>mean concave points</th>\n",
              "      <th>mean symmetry</th>\n",
              "      <th>mean fractal dimension</th>\n",
              "      <th>radius error</th>\n",
              "      <th>texture error</th>\n",
              "      <th>perimeter error</th>\n",
              "      <th>area error</th>\n",
              "      <th>smoothness error</th>\n",
              "      <th>compactness error</th>\n",
              "      <th>concavity error</th>\n",
              "      <th>concave points error</th>\n",
              "      <th>symmetry error</th>\n",
              "      <th>fractal dimension error</th>\n",
              "      <th>worst radius</th>\n",
              "      <th>worst texture</th>\n",
              "      <th>worst perimeter</th>\n",
              "      <th>worst area</th>\n",
              "      <th>worst smoothness</th>\n",
              "      <th>worst compactness</th>\n",
              "      <th>worst concavity</th>\n",
              "      <th>worst concave points</th>\n",
              "      <th>worst symmetry</th>\n",
              "      <th>worst fractal dimension</th>\n",
              "      <th>label</th>\n",
              "    </tr>\n",
              "  </thead>\n",
              "  <tbody>\n",
              "    <tr>\n",
              "      <th>46</th>\n",
              "      <td>-1.684571</td>\n",
              "      <td>-0.570050</td>\n",
              "      <td>-1.658278</td>\n",
              "      <td>-1.288347</td>\n",
              "      <td>-0.737294</td>\n",
              "      <td>-0.851130</td>\n",
              "      <td>-0.915500</td>\n",
              "      <td>-1.109197</td>\n",
              "      <td>-0.155598</td>\n",
              "      <td>0.316465</td>\n",
              "      <td>-0.898232</td>\n",
              "      <td>-0.472008</td>\n",
              "      <td>-0.877224</td>\n",
              "      <td>-0.706961</td>\n",
              "      <td>0.642366</td>\n",
              "      <td>-0.504020</td>\n",
              "      <td>-0.530967</td>\n",
              "      <td>-0.953653</td>\n",
              "      <td>0.629330</td>\n",
              "      <td>-0.458783</td>\n",
              "      <td>-1.512777</td>\n",
              "      <td>-0.605327</td>\n",
              "      <td>-1.489328</td>\n",
              "      <td>-1.122222</td>\n",
              "      <td>-0.116980</td>\n",
              "      <td>-0.754239</td>\n",
              "      <td>-0.975761</td>\n",
              "      <td>-1.354653</td>\n",
              "      <td>0.330422</td>\n",
              "      <td>-0.546168</td>\n",
              "      <td>1</td>\n",
              "    </tr>\n",
              "    <tr>\n",
              "      <th>195</th>\n",
              "      <td>-0.345728</td>\n",
              "      <td>-0.688730</td>\n",
              "      <td>-0.388796</td>\n",
              "      <td>-0.393877</td>\n",
              "      <td>-1.206274</td>\n",
              "      <td>-0.960480</td>\n",
              "      <td>-0.628619</td>\n",
              "      <td>-0.648697</td>\n",
              "      <td>0.063458</td>\n",
              "      <td>-0.868652</td>\n",
              "      <td>-0.761442</td>\n",
              "      <td>-0.559278</td>\n",
              "      <td>-0.679706</td>\n",
              "      <td>-0.540958</td>\n",
              "      <td>-0.581017</td>\n",
              "      <td>-0.536994</td>\n",
              "      <td>-0.287926</td>\n",
              "      <td>-0.547642</td>\n",
              "      <td>-0.243646</td>\n",
              "      <td>-0.621431</td>\n",
              "      <td>-0.494759</td>\n",
              "      <td>-0.598813</td>\n",
              "      <td>-0.490013</td>\n",
              "      <td>-0.492186</td>\n",
              "      <td>-0.993698</td>\n",
              "      <td>-0.659455</td>\n",
              "      <td>-0.459548</td>\n",
              "      <td>-0.491153</td>\n",
              "      <td>0.199382</td>\n",
              "      <td>-0.801081</td>\n",
              "      <td>1</td>\n",
              "    </tr>\n",
              "    <tr>\n",
              "      <th>416</th>\n",
              "      <td>-1.341198</td>\n",
              "      <td>0.560905</td>\n",
              "      <td>-1.333287</td>\n",
              "      <td>-1.091251</td>\n",
              "      <td>0.572150</td>\n",
              "      <td>-0.810194</td>\n",
              "      <td>-0.857873</td>\n",
              "      <td>-0.937589</td>\n",
              "      <td>0.779043</td>\n",
              "      <td>0.455390</td>\n",
              "      <td>0.090331</td>\n",
              "      <td>3.013891</td>\n",
              "      <td>-0.052998</td>\n",
              "      <td>-0.333702</td>\n",
              "      <td>2.566444</td>\n",
              "      <td>-0.488371</td>\n",
              "      <td>-0.604244</td>\n",
              "      <td>-0.506441</td>\n",
              "      <td>1.198399</td>\n",
              "      <td>0.300746</td>\n",
              "      <td>-1.122220</td>\n",
              "      <td>0.905864</td>\n",
              "      <td>-1.147684</td>\n",
              "      <td>-0.916194</td>\n",
              "      <td>0.886862</td>\n",
              "      <td>-0.858566</td>\n",
              "      <td>-1.011215</td>\n",
              "      <td>-1.171020</td>\n",
              "      <td>-0.046520</td>\n",
              "      <td>-0.050197</td>\n",
              "      <td>1</td>\n",
              "    </tr>\n",
              "    <tr>\n",
              "      <th>437</th>\n",
              "      <td>-0.024792</td>\n",
              "      <td>-0.770177</td>\n",
              "      <td>-0.090167</td>\n",
              "      <td>-0.124256</td>\n",
              "      <td>-0.838349</td>\n",
              "      <td>-0.860226</td>\n",
              "      <td>-0.671180</td>\n",
              "      <td>-0.502445</td>\n",
              "      <td>-0.356400</td>\n",
              "      <td>-0.541186</td>\n",
              "      <td>-0.057647</td>\n",
              "      <td>-0.309987</td>\n",
              "      <td>-0.109926</td>\n",
              "      <td>-0.167149</td>\n",
              "      <td>0.311686</td>\n",
              "      <td>-0.700192</td>\n",
              "      <td>-0.524336</td>\n",
              "      <td>-0.446099</td>\n",
              "      <td>-0.059607</td>\n",
              "      <td>-0.364976</td>\n",
              "      <td>-0.126153</td>\n",
              "      <td>-0.667207</td>\n",
              "      <td>-0.180538</td>\n",
              "      <td>-0.229554</td>\n",
              "      <td>-0.564106</td>\n",
              "      <td>-0.821034</td>\n",
              "      <td>-0.769947</td>\n",
              "      <td>-0.610225</td>\n",
              "      <td>-0.284334</td>\n",
              "      <td>-0.643146</td>\n",
              "      <td>1</td>\n",
              "    </tr>\n",
              "    <tr>\n",
              "      <th>391</th>\n",
              "      <td>-1.531771</td>\n",
              "      <td>-0.570050</td>\n",
              "      <td>-1.511641</td>\n",
              "      <td>-1.196199</td>\n",
              "      <td>0.536567</td>\n",
              "      <td>-0.569700</td>\n",
              "      <td>-1.114873</td>\n",
              "      <td>-1.261820</td>\n",
              "      <td>0.633006</td>\n",
              "      <td>1.159939</td>\n",
              "      <td>0.403250</td>\n",
              "      <td>1.564230</td>\n",
              "      <td>0.148975</td>\n",
              "      <td>-0.252735</td>\n",
              "      <td>2.926459</td>\n",
              "      <td>-0.325173</td>\n",
              "      <td>-1.057501</td>\n",
              "      <td>-1.913447</td>\n",
              "      <td>-0.229117</td>\n",
              "      <td>1.112474</td>\n",
              "      <td>-1.263036</td>\n",
              "      <td>-0.468538</td>\n",
              "      <td>-1.288274</td>\n",
              "      <td>-0.990730</td>\n",
              "      <td>0.597545</td>\n",
              "      <td>-0.784138</td>\n",
              "      <td>-1.305831</td>\n",
              "      <td>-1.745063</td>\n",
              "      <td>-0.737313</td>\n",
              "      <td>0.260686</td>\n",
              "      <td>1</td>\n",
              "    </tr>\n",
              "    <tr>\n",
              "      <th>...</th>\n",
              "      <td>...</td>\n",
              "      <td>...</td>\n",
              "      <td>...</td>\n",
              "      <td>...</td>\n",
              "      <td>...</td>\n",
              "      <td>...</td>\n",
              "      <td>...</td>\n",
              "      <td>...</td>\n",
              "      <td>...</td>\n",
              "      <td>...</td>\n",
              "      <td>...</td>\n",
              "      <td>...</td>\n",
              "      <td>...</td>\n",
              "      <td>...</td>\n",
              "      <td>...</td>\n",
              "      <td>...</td>\n",
              "      <td>...</td>\n",
              "      <td>...</td>\n",
              "      <td>...</td>\n",
              "      <td>...</td>\n",
              "      <td>...</td>\n",
              "      <td>...</td>\n",
              "      <td>...</td>\n",
              "      <td>...</td>\n",
              "      <td>...</td>\n",
              "      <td>...</td>\n",
              "      <td>...</td>\n",
              "      <td>...</td>\n",
              "      <td>...</td>\n",
              "      <td>...</td>\n",
              "      <td>...</td>\n",
              "    </tr>\n",
              "    <tr>\n",
              "      <th>29</th>\n",
              "      <td>0.977778</td>\n",
              "      <td>-0.986595</td>\n",
              "      <td>0.948650</td>\n",
              "      <td>0.853831</td>\n",
              "      <td>0.150139</td>\n",
              "      <td>0.215270</td>\n",
              "      <td>0.124931</td>\n",
              "      <td>0.789576</td>\n",
              "      <td>-0.265127</td>\n",
              "      <td>-0.185367</td>\n",
              "      <td>0.704258</td>\n",
              "      <td>-0.715493</td>\n",
              "      <td>0.885580</td>\n",
              "      <td>0.456820</td>\n",
              "      <td>-0.471345</td>\n",
              "      <td>0.271168</td>\n",
              "      <td>0.072159</td>\n",
              "      <td>0.282871</td>\n",
              "      <td>-0.156470</td>\n",
              "      <td>-0.020011</td>\n",
              "      <td>0.774656</td>\n",
              "      <td>-1.002666</td>\n",
              "      <td>0.823244</td>\n",
              "      <td>0.608971</td>\n",
              "      <td>-0.301091</td>\n",
              "      <td>0.171344</td>\n",
              "      <td>-0.111727</td>\n",
              "      <td>0.471930</td>\n",
              "      <td>-0.234183</td>\n",
              "      <td>-0.263547</td>\n",
              "      <td>0</td>\n",
              "    </tr>\n",
              "    <tr>\n",
              "      <th>114</th>\n",
              "      <td>-1.534044</td>\n",
              "      <td>-0.805083</td>\n",
              "      <td>-1.488162</td>\n",
              "      <td>-1.205869</td>\n",
              "      <td>1.326504</td>\n",
              "      <td>-0.423205</td>\n",
              "      <td>-0.596101</td>\n",
              "      <td>-0.765543</td>\n",
              "      <td>-0.593711</td>\n",
              "      <td>1.918357</td>\n",
              "      <td>-0.861418</td>\n",
              "      <td>-1.143859</td>\n",
              "      <td>-0.748516</td>\n",
              "      <td>-0.690217</td>\n",
              "      <td>0.406690</td>\n",
              "      <td>-0.187126</td>\n",
              "      <td>0.023087</td>\n",
              "      <td>-0.226467</td>\n",
              "      <td>-0.419210</td>\n",
              "      <td>0.004197</td>\n",
              "      <td>-1.375274</td>\n",
              "      <td>-0.986381</td>\n",
              "      <td>-1.274274</td>\n",
              "      <td>-1.048038</td>\n",
              "      <td>1.754812</td>\n",
              "      <td>-0.113647</td>\n",
              "      <td>-0.127559</td>\n",
              "      <td>-0.146270</td>\n",
              "      <td>0.040840</td>\n",
              "      <td>0.983863</td>\n",
              "      <td>1</td>\n",
              "    </tr>\n",
              "    <tr>\n",
              "      <th>238</th>\n",
              "      <td>0.026330</td>\n",
              "      <td>1.992051</td>\n",
              "      <td>0.023930</td>\n",
              "      <td>-0.088136</td>\n",
              "      <td>-1.005588</td>\n",
              "      <td>-0.008357</td>\n",
              "      <td>0.269940</td>\n",
              "      <td>-0.124821</td>\n",
              "      <td>-1.714551</td>\n",
              "      <td>-0.213719</td>\n",
              "      <td>-0.251822</td>\n",
              "      <td>2.008745</td>\n",
              "      <td>-0.376748</td>\n",
              "      <td>-0.228313</td>\n",
              "      <td>-0.244670</td>\n",
              "      <td>0.166096</td>\n",
              "      <td>0.219045</td>\n",
              "      <td>-0.273508</td>\n",
              "      <td>-1.052451</td>\n",
              "      <td>-0.077883</td>\n",
              "      <td>-0.107515</td>\n",
              "      <td>2.420311</td>\n",
              "      <td>-0.141817</td>\n",
              "      <td>-0.204943</td>\n",
              "      <td>-1.063835</td>\n",
              "      <td>-0.074206</td>\n",
              "      <td>0.164131</td>\n",
              "      <td>-0.493589</td>\n",
              "      <td>-1.635181</td>\n",
              "      <td>-0.331709</td>\n",
              "      <td>1</td>\n",
              "    </tr>\n",
              "    <tr>\n",
              "      <th>59</th>\n",
              "      <td>-1.564717</td>\n",
              "      <td>-1.745219</td>\n",
              "      <td>-1.549947</td>\n",
              "      <td>-1.224071</td>\n",
              "      <td>0.082532</td>\n",
              "      <td>-0.978294</td>\n",
              "      <td>-0.856115</td>\n",
              "      <td>-1.060652</td>\n",
              "      <td>-0.469579</td>\n",
              "      <td>1.286106</td>\n",
              "      <td>-0.899675</td>\n",
              "      <td>-1.156197</td>\n",
              "      <td>-0.900985</td>\n",
              "      <td>-0.704386</td>\n",
              "      <td>1.023049</td>\n",
              "      <td>-0.834327</td>\n",
              "      <td>-0.400660</td>\n",
              "      <td>-0.982040</td>\n",
              "      <td>0.043310</td>\n",
              "      <td>-0.380863</td>\n",
              "      <td>-1.400331</td>\n",
              "      <td>-1.673582</td>\n",
              "      <td>-1.410693</td>\n",
              "      <td>-1.064738</td>\n",
              "      <td>1.794265</td>\n",
              "      <td>-0.829304</td>\n",
              "      <td>-0.745480</td>\n",
              "      <td>-1.072199</td>\n",
              "      <td>0.516467</td>\n",
              "      <td>0.349906</td>\n",
              "      <td>1</td>\n",
              "    </tr>\n",
              "    <tr>\n",
              "      <th>478</th>\n",
              "      <td>-0.749028</td>\n",
              "      <td>-1.093640</td>\n",
              "      <td>-0.740560</td>\n",
              "      <td>-0.710995</td>\n",
              "      <td>0.586383</td>\n",
              "      <td>-0.418088</td>\n",
              "      <td>-0.448455</td>\n",
              "      <td>-0.753936</td>\n",
              "      <td>-0.119089</td>\n",
              "      <td>0.417114</td>\n",
              "      <td>-0.728238</td>\n",
              "      <td>-0.092266</td>\n",
              "      <td>-0.643074</td>\n",
              "      <td>-0.571980</td>\n",
              "      <td>-0.694688</td>\n",
              "      <td>-0.242457</td>\n",
              "      <td>0.320505</td>\n",
              "      <td>-0.609606</td>\n",
              "      <td>-0.255754</td>\n",
              "      <td>-0.068427</td>\n",
              "      <td>-0.801242</td>\n",
              "      <td>-0.615097</td>\n",
              "      <td>-0.751235</td>\n",
              "      <td>-0.725988</td>\n",
              "      <td>0.124117</td>\n",
              "      <td>-0.338840</td>\n",
              "      <td>-0.060394</td>\n",
              "      <td>-0.613574</td>\n",
              "      <td>0.065106</td>\n",
              "      <td>0.435246</td>\n",
              "      <td>1</td>\n",
              "    </tr>\n",
              "  </tbody>\n",
              "</table>\n",
              "<p>569 rows × 31 columns</p>\n",
              "</div>"
            ],
            "text/plain": [
              "     mean radius  mean texture  ...  worst fractal dimension  label\n",
              "46     -1.684571     -0.570050  ...                -0.546168      1\n",
              "195    -0.345728     -0.688730  ...                -0.801081      1\n",
              "416    -1.341198      0.560905  ...                -0.050197      1\n",
              "437    -0.024792     -0.770177  ...                -0.643146      1\n",
              "391    -1.531771     -0.570050  ...                 0.260686      1\n",
              "..           ...           ...  ...                      ...    ...\n",
              "29      0.977778     -0.986595  ...                -0.263547      0\n",
              "114    -1.534044     -0.805083  ...                 0.983863      1\n",
              "238     0.026330      1.992051  ...                -0.331709      1\n",
              "59     -1.564717     -1.745219  ...                 0.349906      1\n",
              "478    -0.749028     -1.093640  ...                 0.435246      1\n",
              "\n",
              "[569 rows x 31 columns]"
            ]
          },
          "metadata": {},
          "execution_count": 19
        }
      ]
    },
    {
      "cell_type": "code",
      "metadata": {
        "id": "Ob09BCbinjhg"
      },
      "source": [
        "#500 Training\n",
        "X_train = feature[:500]\n",
        "y_train = label[:500]\n",
        "\n",
        "#35 Validation\n",
        "X_val = feature[500:535]\n",
        "y_val = label[500:535]\n",
        "\n",
        "#34 Testing\n",
        "X_test = feature[535:]\n",
        "y_test = label[535:]"
      ],
      "execution_count": 20,
      "outputs": []
    },
    {
      "cell_type": "code",
      "metadata": {
        "id": "2pXkXvNtnjj-"
      },
      "source": [
        "model = Sequential()\n",
        "\n",
        "model.add(Dense(32, activation = 'relu', input_dim = 30))\n",
        "model.add(Dense(64, activation = 'relu'))\n",
        "model.add(Dense(128, activation = 'relu'))\n",
        "model.add(Dense(64, activation = 'relu'))\n",
        "model.add(Dense(32, activation = 'relu'))\n",
        "model.add(Dense(1, activation = 'sigmoid'))\n",
        "\n",
        "model.compile( loss = 'binary_crossentropy' , optimizer = 'adam' , metrics = ['accuracy'])"
      ],
      "execution_count": 21,
      "outputs": []
    },
    {
      "cell_type": "code",
      "metadata": {
        "colab": {
          "base_uri": "https://localhost:8080/"
        },
        "id": "5xOIwY30njna",
        "outputId": "16119eeb-157f-43ec-8d03-cb562e9852ca"
      },
      "source": [
        "model.fit( X_train , y_train, epochs = 10, batch_size = 5, validation_data = (X_val, y_val))"
      ],
      "execution_count": 22,
      "outputs": [
        {
          "output_type": "stream",
          "name": "stdout",
          "text": [
            "Epoch 1/10\n",
            "100/100 [==============================] - 1s 4ms/step - loss: 0.2282 - accuracy: 0.9380 - val_loss: 0.1099 - val_accuracy: 0.9429\n",
            "Epoch 2/10\n",
            "100/100 [==============================] - 0s 2ms/step - loss: 0.0693 - accuracy: 0.9780 - val_loss: 0.1056 - val_accuracy: 0.9429\n",
            "Epoch 3/10\n",
            "100/100 [==============================] - 0s 2ms/step - loss: 0.0534 - accuracy: 0.9880 - val_loss: 0.1033 - val_accuracy: 0.9429\n",
            "Epoch 4/10\n",
            "100/100 [==============================] - 0s 2ms/step - loss: 0.0510 - accuracy: 0.9880 - val_loss: 0.1144 - val_accuracy: 0.9429\n",
            "Epoch 5/10\n",
            "100/100 [==============================] - 0s 2ms/step - loss: 0.0329 - accuracy: 0.9900 - val_loss: 0.1535 - val_accuracy: 0.9429\n",
            "Epoch 6/10\n",
            "100/100 [==============================] - 0s 2ms/step - loss: 0.0332 - accuracy: 0.9900 - val_loss: 0.1112 - val_accuracy: 0.9429\n",
            "Epoch 7/10\n",
            "100/100 [==============================] - 0s 2ms/step - loss: 0.0278 - accuracy: 0.9900 - val_loss: 0.1340 - val_accuracy: 0.9429\n",
            "Epoch 8/10\n",
            "100/100 [==============================] - 0s 2ms/step - loss: 0.0214 - accuracy: 0.9920 - val_loss: 0.1279 - val_accuracy: 0.9429\n",
            "Epoch 9/10\n",
            "100/100 [==============================] - 0s 2ms/step - loss: 0.0246 - accuracy: 0.9880 - val_loss: 0.1707 - val_accuracy: 0.9429\n",
            "Epoch 10/10\n",
            "100/100 [==============================] - 0s 2ms/step - loss: 0.0156 - accuracy: 0.9940 - val_loss: 0.2312 - val_accuracy: 0.9429\n"
          ]
        },
        {
          "output_type": "execute_result",
          "data": {
            "text/plain": [
              "<keras.callbacks.History at 0x7f2cdb1c0890>"
            ]
          },
          "metadata": {},
          "execution_count": 22
        }
      ]
    },
    {
      "cell_type": "code",
      "metadata": {
        "colab": {
          "base_uri": "https://localhost:8080/"
        },
        "id": "VUmcquRonqoA",
        "outputId": "3b5763c5-f463-4714-ef42-ce7a4e5849ac"
      },
      "source": [
        "model.evaluate(X_test , y_test)"
      ],
      "execution_count": 23,
      "outputs": [
        {
          "output_type": "stream",
          "name": "stdout",
          "text": [
            "2/2 [==============================] - 0s 6ms/step - loss: 0.2838 - accuracy: 0.9118\n"
          ]
        },
        {
          "output_type": "execute_result",
          "data": {
            "text/plain": [
              "[0.283799409866333, 0.9117646813392639]"
            ]
          },
          "metadata": {},
          "execution_count": 23
        }
      ]
    },
    {
      "cell_type": "code",
      "metadata": {
        "colab": {
          "base_uri": "https://localhost:8080/"
        },
        "id": "XcHFgWapnqqo",
        "outputId": "aa6387e2-59f0-456a-8458-02ed15f06ffc"
      },
      "source": [
        "model.evaluate(X_val , y_val)"
      ],
      "execution_count": 24,
      "outputs": [
        {
          "output_type": "stream",
          "name": "stdout",
          "text": [
            "2/2 [==============================] - 0s 7ms/step - loss: 0.2312 - accuracy: 0.9429\n"
          ]
        },
        {
          "output_type": "execute_result",
          "data": {
            "text/plain": [
              "[0.23120997846126556, 0.9428571462631226]"
            ]
          },
          "metadata": {},
          "execution_count": 24
        }
      ]
    },
    {
      "cell_type": "code",
      "metadata": {
        "colab": {
          "base_uri": "https://localhost:8080/"
        },
        "id": "gZGiqNSZnquL",
        "outputId": "f32dd3be-1c4a-45da-92ba-8ef69403dff1"
      },
      "source": [
        "for i in range(30):\n",
        "  sample = X_test[i]\n",
        "  sample = np.reshape(sample, (1,30))\n",
        "\n",
        "  if (model.predict(sample)[0][0] > 0.5):\n",
        "    print(\"-Benign\")\n",
        "  else:\n",
        "    print(\"-Malignant\")\n",
        "\n",
        "  if (y_test[i] == 1):\n",
        "    print(\"*Banign\")\n",
        "  else:\n",
        "    print(\"*Melignant\")\n",
        "  print(\"-----------\")"
      ],
      "execution_count": 26,
      "outputs": [
        {
          "output_type": "stream",
          "name": "stdout",
          "text": [
            "-Malignant\n",
            "*Melignant\n",
            "-----------\n",
            "-Malignant\n",
            "*Melignant\n",
            "-----------\n",
            "-Benign\n",
            "*Banign\n",
            "-----------\n",
            "-Benign\n",
            "*Banign\n",
            "-----------\n",
            "-Benign\n",
            "*Banign\n",
            "-----------\n",
            "-Benign\n",
            "*Banign\n",
            "-----------\n",
            "-Malignant\n",
            "*Melignant\n",
            "-----------\n",
            "-Benign\n",
            "*Banign\n",
            "-----------\n",
            "-Malignant\n",
            "*Melignant\n",
            "-----------\n",
            "-Benign\n",
            "*Melignant\n",
            "-----------\n",
            "-Benign\n",
            "*Banign\n",
            "-----------\n",
            "-Malignant\n",
            "*Melignant\n",
            "-----------\n",
            "-Benign\n",
            "*Banign\n",
            "-----------\n",
            "-Malignant\n",
            "*Banign\n",
            "-----------\n",
            "-Benign\n",
            "*Melignant\n",
            "-----------\n",
            "-Malignant\n",
            "*Melignant\n",
            "-----------\n",
            "-Benign\n",
            "*Banign\n",
            "-----------\n",
            "-Benign\n",
            "*Banign\n",
            "-----------\n",
            "-Benign\n",
            "*Banign\n",
            "-----------\n",
            "-Malignant\n",
            "*Melignant\n",
            "-----------\n",
            "-Malignant\n",
            "*Melignant\n",
            "-----------\n",
            "-Malignant\n",
            "*Melignant\n",
            "-----------\n",
            "-Benign\n",
            "*Banign\n",
            "-----------\n",
            "-Benign\n",
            "*Banign\n",
            "-----------\n",
            "-Malignant\n",
            "*Melignant\n",
            "-----------\n",
            "-Benign\n",
            "*Banign\n",
            "-----------\n",
            "-Malignant\n",
            "*Melignant\n",
            "-----------\n",
            "-Malignant\n",
            "*Melignant\n",
            "-----------\n",
            "-Malignant\n",
            "*Melignant\n",
            "-----------\n",
            "-Malignant\n",
            "*Melignant\n",
            "-----------\n"
          ]
        }
      ]
    },
    {
      "cell_type": "code",
      "metadata": {
        "colab": {
          "base_uri": "https://localhost:8080/"
        },
        "id": "9QY87CUNnzMj",
        "outputId": "2304a21a-f773-4c4c-ef06-89155f987491"
      },
      "source": [
        "t = 0\n",
        "for i in y_val:\n",
        "  if (i == 1):\n",
        "    t += 1\n",
        "\n",
        "print(t)"
      ],
      "execution_count": 27,
      "outputs": [
        {
          "output_type": "stream",
          "name": "stdout",
          "text": [
            "22\n"
          ]
        }
      ]
    },
    {
      "cell_type": "code",
      "metadata": {
        "colab": {
          "base_uri": "https://localhost:8080/"
        },
        "id": "9dzZYKIbnzUT",
        "outputId": "1376f498-8d4b-400a-8ce2-b59c0f59f611"
      },
      "source": [
        "t = 0\n",
        "for i in y_test:\n",
        "  if (i == 1):\n",
        "    t += 1\n",
        "\n",
        "print(t)"
      ],
      "execution_count": 28,
      "outputs": [
        {
          "output_type": "stream",
          "name": "stdout",
          "text": [
            "18\n"
          ]
        }
      ]
    },
    {
      "cell_type": "code",
      "metadata": {
        "colab": {
          "base_uri": "https://localhost:8080/"
        },
        "id": "gyYLTPXQn3bL",
        "outputId": "29ac87af-f7f7-4bc8-af17-62e5da019228"
      },
      "source": [
        "X_test[0] * -.1"
      ],
      "execution_count": 29,
      "outputs": [
        {
          "output_type": "execute_result",
          "data": {
            "text/plain": [
              "array([ 1.83840043e-02, -3.56123065e-02,  1.47009200e-02,  2.72149630e-02,\n",
              "       -3.72886904e-02, -4.00994653e-02, -2.19720584e-02, -1.41115115e-02,\n",
              "        3.34494429e-02, -1.97385794e-02,  6.93589311e-02,  1.13478761e-01,\n",
              "        6.53964756e-02,  4.80013039e-02,  5.58015594e-02,  1.72594657e-02,\n",
              "        4.65430550e-03, -1.33638528e-02,  8.19979801e-02,  2.29940453e-02,\n",
              "        1.53073295e-02, -5.58190740e-03, -1.15531363e-04,  2.46429703e-02,\n",
              "       -1.25508320e-01, -1.07020937e-01, -1.10732368e-01, -1.69310287e-01,\n",
              "        1.51676173e-02, -1.28310797e-01])"
            ]
          },
          "metadata": {},
          "execution_count": 29
        }
      ]
    },
    {
      "cell_type": "code",
      "metadata": {
        "colab": {
          "base_uri": "https://localhost:8080/"
        },
        "id": "Ji_BC7ybn3eA",
        "outputId": "8a6874c2-429f-4c61-cb48-f2b2be9dc98e"
      },
      "source": [
        "348/350"
      ],
      "execution_count": 30,
      "outputs": [
        {
          "output_type": "execute_result",
          "data": {
            "text/plain": [
              "0.9942857142857143"
            ]
          },
          "metadata": {},
          "execution_count": 30
        }
      ]
    },
    {
      "cell_type": "code",
      "metadata": {
        "colab": {
          "base_uri": "https://localhost:8080/"
        },
        "id": "JMFR13q6n3hl",
        "outputId": "770f217a-34e3-4de1-d093-f9c6e2392f8e"
      },
      "source": [
        "\n",
        "347/350"
      ],
      "execution_count": 31,
      "outputs": [
        {
          "output_type": "execute_result",
          "data": {
            "text/plain": [
              "0.9914285714285714"
            ]
          },
          "metadata": {},
          "execution_count": 31
        }
      ]
    }
  ]
}